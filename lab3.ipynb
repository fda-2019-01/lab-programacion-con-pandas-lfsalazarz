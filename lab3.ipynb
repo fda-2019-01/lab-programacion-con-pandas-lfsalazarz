{
 "cells": [
  {
   "cell_type": "code",
   "execution_count": 1,
   "metadata": {},
   "outputs": [],
   "source": [
    "import pandas as pd"
   ]
  },
  {
   "cell_type": "markdown",
   "metadata": {},
   "source": [
    "### q01.py\n",
    "\n",
    "~~~\n",
    "##\n",
    "## Imprima la cantidad de registros por cada letra \n",
    "## de la columna _c1 de la tabla tbl0\n",
    "## \n",
    "~~~"
   ]
  },
  {
   "cell_type": "code",
   "execution_count": 11,
   "metadata": {},
   "outputs": [
    {
     "data": {
      "text/plain": [
       "_c1\n",
       "A     8\n",
       "B     7\n",
       "C     5\n",
       "D     6\n",
       "E    14\n",
       "Name: _c0, dtype: int64"
      ]
     },
     "execution_count": 11,
     "metadata": {},
     "output_type": "execute_result"
    }
   ],
   "source": [
    "df = pd.read_csv('tbl0.tsv', sep='\\t')\n",
    "(df.groupby('_c1').count())['_c0']"
   ]
  },
  {
   "cell_type": "markdown",
   "metadata": {},
   "source": [
    "### q02.py\n",
    "\n",
    "~~~\n",
    "##\n",
    "## Imprima el promedio de la _c2 por cada letra de la _c1 \n",
    "## de la tabla tbl0\n",
    "## \n",
    "~~~"
   ]
  },
  {
   "cell_type": "code",
   "execution_count": 14,
   "metadata": {},
   "outputs": [
    {
     "data": {
      "text/plain": [
       "_c1\n",
       "A    4.625000\n",
       "B    5.142857\n",
       "C    5.400000\n",
       "D    3.833333\n",
       "E    4.785714\n",
       "Name: _c2, dtype: float64"
      ]
     },
     "execution_count": 14,
     "metadata": {},
     "output_type": "execute_result"
    }
   ],
   "source": [
    "df = pd.read_csv('tbl0.tsv', sep='\\t')\n",
    "(df.groupby('_c1').mean())['_c2']"
   ]
  },
  {
   "cell_type": "markdown",
   "metadata": {},
   "source": [
    "### q03.py\n",
    "\n",
    "~~~\n",
    "##\n",
    "## Imprima el maximo de la _c2 por cada letra de la _c1 \n",
    "## de la tabla tbl0\n",
    "## \n",
    "~~~"
   ]
  },
  {
   "cell_type": "code",
   "execution_count": 16,
   "metadata": {},
   "outputs": [
    {
     "data": {
      "text/plain": [
       "_c1\n",
       "A    9\n",
       "B    9\n",
       "C    9\n",
       "D    7\n",
       "E    9\n",
       "Name: _c2, dtype: int64"
      ]
     },
     "execution_count": 16,
     "metadata": {},
     "output_type": "execute_result"
    }
   ],
   "source": [
    "df = pd.read_csv('tbl0.tsv', sep='\\t')\n",
    "(df.groupby('_c1').max())['_c2']"
   ]
  },
  {
   "cell_type": "markdown",
   "metadata": {},
   "source": [
    "### q04.py\n",
    "\n",
    "~~~\n",
    "##\n",
    "## Imprima los valores unicos de la columna _c4 de \n",
    "## de la tabla tbl1 en mayusculas\n",
    "## \n",
    "~~~"
   ]
  },
  {
   "cell_type": "code",
   "execution_count": 30,
   "metadata": {},
   "outputs": [
    {
     "data": {
      "text/plain": [
       "['A', 'B', 'C', 'D', 'E', 'F', 'G']"
      ]
     },
     "execution_count": 30,
     "metadata": {},
     "output_type": "execute_result"
    }
   ],
   "source": [
    "df = pd.read_csv('tbl1.tsv', sep='\\t')\n",
    "sorted(list(set(df['_c4'].str.upper())))"
   ]
  },
  {
   "cell_type": "markdown",
   "metadata": {},
   "source": [
    "### q05.py\n",
    "\n",
    "~~~\n",
    "##\n",
    "## Imprima la suma de la _c2 por cada letra de la _c1 \n",
    "## de la tabla tbl0\n",
    "## \n",
    "~~~"
   ]
  },
  {
   "cell_type": "code",
   "execution_count": 31,
   "metadata": {},
   "outputs": [
    {
     "data": {
      "text/plain": [
       "_c1\n",
       "A    37\n",
       "B    36\n",
       "C    27\n",
       "D    23\n",
       "E    67\n",
       "Name: _c2, dtype: int64"
      ]
     },
     "execution_count": 31,
     "metadata": {},
     "output_type": "execute_result"
    }
   ],
   "source": [
    "df = pd.read_csv('tbl0.tsv', sep='\\t')\n",
    "(df.groupby('_c1').sum())['_c2']"
   ]
  },
  {
   "cell_type": "markdown",
   "metadata": {},
   "source": [
    "### q06.py\n",
    "\n",
    "~~~\n",
    "##\n",
    "## Imprima la suma de la _c2 por cada letra de la _c1 \n",
    "## de la tabla tbl0\n",
    "## \n",
    "~~~"
   ]
  },
  {
   "cell_type": "code",
   "execution_count": 32,
   "metadata": {},
   "outputs": [
    {
     "name": "stdout",
     "output_type": "stream",
     "text": [
      "_c1\n",
      "A    37\n",
      "B    36\n",
      "C    27\n",
      "D    23\n",
      "E    67\n",
      "Name: _c2, dtype: int64\n"
     ]
    }
   ],
   "source": [
    "df = pd.read_csv('tbl0.tsv', sep='\\t')\n",
    "print((df.groupby('_c1').sum())['_c2'])"
   ]
  },
  {
   "cell_type": "markdown",
   "metadata": {},
   "source": [
    "### q07.py\n",
    "\n",
    "~~~\n",
    "##\n",
    "## Agregue una columna  con la suma de _c0 y _c2 a la tabla tbl0.tsv \n",
    "## \n",
    "~~~"
   ]
  },
  {
   "cell_type": "code",
   "execution_count": 39,
   "metadata": {
    "scrolled": true
   },
   "outputs": [
    {
     "name": "stdout",
     "output_type": "stream",
     "text": [
      "    _c0 _c1  _c2         _c3  suma\n",
      "0     0   E    1  1999-02-28     1\n",
      "1     1   A    2  1999-10-28     3\n",
      "2     2   B    5  1998-05-02     7\n",
      "3     3   A    3  1999-08-28     6\n",
      "4     4   C    6  1999-12-01    10\n",
      "5     5   A    7  1998-07-28    12\n",
      "6     6   A    9  1997-02-28    15\n",
      "7     7   B    1  1999-05-10     8\n",
      "8     8   E    2  1997-04-12    10\n",
      "9     9   B    3  1999-11-23    12\n",
      "10   10   C    7  1998-01-17    17\n",
      "11   11   C    5  1998-12-28    16\n",
      "12   12   D    3  1999-10-15    15\n",
      "13   13   E    8  1998-11-01    21\n",
      "14   14   B    9  1999-08-12    23\n",
      "15   15   D    1  1997-12-01    16\n",
      "16   16   E    3  1997-07-28    19\n",
      "17   17   D    5  1998-08-12    22\n",
      "18   18   E    8  1999-08-24    26\n",
      "19   19   E    9  1998-01-23    28\n",
      "20   20   E    7  1999-06-22    27\n",
      "21   21   E    3  1999-04-24    24\n",
      "22   22   D    5  1999-06-25    27\n",
      "23   23   A    1  1999-08-25    24\n",
      "24   24   E    4  1997-07-26    28\n",
      "25   25   E    6  1997-09-24    31\n",
      "26   26   A    8  1997-09-28    34\n",
      "27   27   E    5  1999-06-22    32\n",
      "28   28   A    6  1999-07-29    34\n",
      "29   29   C    0  1999-08-22    29\n",
      "30   30   A    1  1998-04-26    31\n",
      "31   31   D    2  1998-02-24    33\n",
      "32   32   E    5  1999-03-24    37\n",
      "33   33   B    4  1998-03-23    37\n",
      "34   34   B    6  1999-04-21    40\n",
      "35   35   D    7  1999-02-29    42\n",
      "36   36   B    8  1997-05-21    44\n",
      "37   37   C    9  1997-07-22    46\n",
      "38   38   E    1  1999-09-28    39\n",
      "39   39   E    5  1998-01-26    44\n"
     ]
    }
   ],
   "source": [
    "df = pd.read_csv('tbl0.tsv', sep='\\t')\n",
    "df['suma'] = df['_c0'] + df['_c2']\n",
    "print(df)"
   ]
  },
  {
   "cell_type": "markdown",
   "metadata": {},
   "source": [
    "### q08.py\n",
    "\n",
    "~~~\n",
    "##\n",
    "## Agregue el año como una columna a la tabla tbl0.tsv \n",
    "## \n",
    "~~~"
   ]
  },
  {
   "cell_type": "code",
   "execution_count": 43,
   "metadata": {
    "scrolled": true
   },
   "outputs": [
    {
     "name": "stdout",
     "output_type": "stream",
     "text": [
      "    _c0 _c1  _c2         _c3   ano\n",
      "0     0   E    1  1999-02-28  1999\n",
      "1     1   A    2  1999-10-28  1999\n",
      "2     2   B    5  1998-05-02  1998\n",
      "3     3   A    3  1999-08-28  1999\n",
      "4     4   C    6  1999-12-01  1999\n",
      "5     5   A    7  1998-07-28  1998\n",
      "6     6   A    9  1997-02-28  1997\n",
      "7     7   B    1  1999-05-10  1999\n",
      "8     8   E    2  1997-04-12  1997\n",
      "9     9   B    3  1999-11-23  1999\n",
      "10   10   C    7  1998-01-17  1998\n",
      "11   11   C    5  1998-12-28  1998\n",
      "12   12   D    3  1999-10-15  1999\n",
      "13   13   E    8  1998-11-01  1998\n",
      "14   14   B    9  1999-08-12  1999\n",
      "15   15   D    1  1997-12-01  1997\n",
      "16   16   E    3  1997-07-28  1997\n",
      "17   17   D    5  1998-08-12  1998\n",
      "18   18   E    8  1999-08-24  1999\n",
      "19   19   E    9  1998-01-23  1998\n",
      "20   20   E    7  1999-06-22  1999\n",
      "21   21   E    3  1999-04-24  1999\n",
      "22   22   D    5  1999-06-25  1999\n",
      "23   23   A    1  1999-08-25  1999\n",
      "24   24   E    4  1997-07-26  1997\n",
      "25   25   E    6  1997-09-24  1997\n",
      "26   26   A    8  1997-09-28  1997\n",
      "27   27   E    5  1999-06-22  1999\n",
      "28   28   A    6  1999-07-29  1999\n",
      "29   29   C    0  1999-08-22  1999\n",
      "30   30   A    1  1998-04-26  1998\n",
      "31   31   D    2  1998-02-24  1998\n",
      "32   32   E    5  1999-03-24  1999\n",
      "33   33   B    4  1998-03-23  1998\n",
      "34   34   B    6  1999-04-21  1999\n",
      "35   35   D    7  1999-02-29  1999\n",
      "36   36   B    8  1997-05-21  1997\n",
      "37   37   C    9  1997-07-22  1997\n",
      "38   38   E    1  1999-09-28  1999\n",
      "39   39   E    5  1998-01-26  1998\n"
     ]
    }
   ],
   "source": [
    "df = pd.read_csv('tbl0.tsv', sep='\\t')\n",
    "df['ano'] = df['_c3'].map(lambda x: x.split('-')[0])\n",
    "print(df)"
   ]
  },
  {
   "cell_type": "markdown",
   "metadata": {},
   "source": [
    "### q09.py\n",
    "\n",
    "~~~\n",
    "##\n",
    "## Construya una tabla que contenga _c1 y una lista\n",
    "## separada por ':' de los valores de la columna _c2\n",
    "## para el archivo tbl0.tsv\n",
    "## \n",
    "~~~"
   ]
  },
  {
   "cell_type": "code",
   "execution_count": 141,
   "metadata": {},
   "outputs": [
    {
     "name": "stdout",
     "output_type": "stream",
     "text": [
      "  _c0                        lista\n",
      "0   A              1:1:2:3:6:7:8:9\n",
      "1   B                1:3:4:5:6:8:9\n",
      "2   C                    0:5:6:7:9\n",
      "3   D                  1:2:3:5:5:7\n",
      "4   E  1:1:2:3:3:4:5:5:5:6:7:8:8:9\n"
     ]
    }
   ],
   "source": [
    "'''\n",
    "  _c0                        lista\n",
    "0   A              1:1:2:3:6:7:8:9\n",
    "1   B                1:3:4:5:6:8:9\n",
    "2   C                    0:5:6:7:9\n",
    "3   D                  1:2:3:5:5:7\n",
    "4   E  1:1:2:3:3:4:5:5:5:6:7:8:8:9\n",
    "<BLANKLINE>\n",
    "'''\n",
    "\n",
    "df = pd.read_csv('tbl0.tsv', sep='\\t')\n",
    "df['_c2'] = df['_c2'].astype(str)\n",
    "#result = df.groupby('_c1').apply(lambda x: ':'.join(sorted(x['_c2'])))\n",
    "df2 = pd.DataFrame({\n",
    "    'lista' : df.groupby( [\"_c1\"] ).apply(lambda x: ':'.join(sorted(x['_c2']))) \n",
    "}).reset_index()\n",
    "df2.columns = ['_c0', 'lista']\n",
    "print(df2)"
   ]
  },
  {
   "cell_type": "markdown",
   "metadata": {},
   "source": [
    "### q10.py\n",
    "\n",
    "~~~\n",
    "##\n",
    "## Construya una tabla que contenga _c0 y una lista\n",
    "## separada por ',' de los valores de la columna _c4\n",
    "## de la tabla tbl1.tsv\n",
    "## \n",
    "~~~"
   ]
  },
  {
   "cell_type": "code",
   "execution_count": 152,
   "metadata": {
    "scrolled": true
   },
   "outputs": [
    {
     "name": "stdout",
     "output_type": "stream",
     "text": [
      "    _c0    lista\n",
      "0     0    b,f,g\n",
      "1     1    a,c,f\n",
      "2     2  a,c,e,f\n",
      "3     3      a,b\n",
      "4     4  a,d,f,g\n",
      "5     5      c,d\n",
      "6     6    a,d,g\n",
      "7     7      a,b\n",
      "8     8  a,d,e,f\n",
      "9     9  b,d,f,g\n",
      "10   10  b,c,d,f\n",
      "11   11  a,c,d,e\n",
      "12   12  b,e,f,g\n",
      "13   13      c,f\n",
      "14   14      b,d\n",
      "15   15      e,f\n",
      "16   16    b,e,f\n",
      "17   17      a,g\n",
      "18   18  a,c,e,f\n",
      "19   19      a,e\n",
      "20   20      e,f\n",
      "21   21    b,c,g\n",
      "22   22    a,c,f\n",
      "23   23    a,d,f\n",
      "24   24      c,d\n",
      "25   25    c,d,e\n",
      "26   26    a,e,f\n",
      "27   27    a,c,g\n",
      "28   28      e,f\n",
      "29   29  a,c,f,g\n",
      "30   30      b,f\n",
      "31   31      b,f\n",
      "32   32      a,c\n",
      "33   33    b,c,f\n",
      "34   34    a,e,f\n",
      "35   35      a,f\n",
      "36   36      a,c\n",
      "37   37  a,c,e,f\n",
      "38   38      d,e\n",
      "39   39    a,d,f\n"
     ]
    }
   ],
   "source": [
    "df = pd.read_csv('tbl1.tsv', sep='\\t')\n",
    "df2 = pd.DataFrame({\n",
    "    'lista': df.groupby(['_c0']).apply(lambda x: ','.join(sorted(x['_c4'])))\n",
    "}).reset_index()\n",
    "print(df2)"
   ]
  },
  {
   "cell_type": "markdown",
   "metadata": {},
   "source": [
    "### q11.py\n",
    "\n",
    "~~~\n",
    "##\n",
    "## Construya una tabla que contenga _c0 y una lista\n",
    "## separada por ',' de los valores de la columna _c5a\n",
    "## y _c5b (unidos por ':') de la tabla tbl2.tsv\n",
    "## \n",
    "~~~"
   ]
  },
  {
   "cell_type": "code",
   "execution_count": 164,
   "metadata": {
    "scrolled": true
   },
   "outputs": [
    {
     "name": "stdout",
     "output_type": "stream",
     "text": [
      "    _c0                                lista\n",
      "0     0        bbb:0,ddd:9,ggg:8,hhh:2,jjj:3\n",
      "1     1              aaa:3,ccc:2,ddd:0,hhh:9\n",
      "2     2              ccc:6,ddd:2,ggg:5,jjj:1\n",
      "3     3              bbb:1,eee:7,hhh:9,iii:5\n",
      "4     4              ddd:5,eee:4,iii:6,jjj:3\n",
      "5     5        aaa:7,bbb:2,ccc:4,fff:1,hhh:0\n",
      "6     6  aaa:5,ccc:1,ddd:2,fff:8,iii:0,jjj:7\n",
      "7     7                    ddd:2,fff:3,hhh:1\n",
      "8     8  bbb:0,ccc:5,eee:4,fff:7,ggg:6,iii:9\n",
      "9     9  bbb:7,eee:3,fff:5,ggg:2,iii:4,jjj:9\n",
      "10   10        eee:4,fff:2,hhh:6,iii:0,jjj:1\n",
      "11   11                    bbb:7,ggg:9,iii:6\n",
      "12   12        aaa:3,bbb:9,ccc:6,eee:2,fff:4\n",
      "13   13                    aaa:8,ddd:5,jjj:1\n",
      "14   14        aaa:2,ccc:0,ddd:3,fff:7,jjj:6\n",
      "15   15              bbb:9,ccc:0,ddd:3,eee:6\n",
      "16   16  bbb:6,ddd:2,fff:4,ggg:9,hhh:5,iii:3\n",
      "17   17                    ccc:9,hhh:4,jjj:5\n",
      "18   18                    ccc:1,fff:9,iii:6\n",
      "19   19                    aaa:3,bbb:9,fff:1\n",
      "20   20                    aaa:4,ddd:9,iii:2\n",
      "21   21                    ccc:5,fff:8,iii:7\n",
      "22   22                    ddd:7,eee:3,jjj:2\n",
      "23   23        bbb:3,ccc:7,ddd:9,ggg:0,jjj:1\n",
      "24   24  aaa:1,ccc:0,ggg:8,hhh:9,iii:7,jjj:6\n",
      "25   25  bbb:7,ccc:1,ddd:0,eee:6,fff:3,iii:4\n",
      "26   26                    ccc:4,ddd:5,fff:0\n",
      "27   27        ccc:0,ddd:9,ggg:6,hhh:3,jjj:7\n",
      "28   28        ccc:3,eee:5,hhh:6,iii:7,jjj:0\n",
      "29   29  aaa:2,ccc:7,ddd:6,eee:1,fff:4,ggg:0\n",
      "30   30        aaa:9,bbb:3,ccc:6,ddd:0,eee:5\n",
      "31   31  aaa:6,bbb:7,ddd:5,fff:9,hhh:1,iii:4\n",
      "32   32              ccc:1,eee:5,fff:3,ggg:2\n",
      "33   33  ccc:1,ddd:0,ggg:3,hhh:5,iii:7,jjj:8\n",
      "34   34        bbb:8,ccc:3,ddd:7,hhh:6,jjj:0\n",
      "35   35                    aaa:0,ddd:3,fff:5\n",
      "36   36        bbb:4,ccc:0,ddd:5,iii:7,jjj:2\n",
      "37   37                    eee:0,fff:2,hhh:6\n",
      "38   38                    eee:0,fff:9,iii:2\n",
      "39   39                    ggg:3,hhh:8,jjj:5\n"
     ]
    }
   ],
   "source": [
    "df = pd.read_csv('tbl2.tsv', sep='\\t')\n",
    "df['_c5b'] = df['_c5b'].astype(str)\n",
    "\n",
    "df2 = pd.DataFrame({\n",
    "    'lista': df.groupby(['_c0']).apply(lambda x: ','.join(sorted(x['_c5a'] + ':' + x['_c5b'])))\n",
    "}).reset_index()\n",
    "\n",
    "print(df2)"
   ]
  },
  {
   "cell_type": "markdown",
   "metadata": {},
   "source": [
    "### q12.py\n",
    "\n",
    "~~~\n",
    "##\n",
    "## Si la columna _c0 es la clave en las tablas tbl0.tsv\n",
    "## y tbl2.tsv, compute la suma de tbl2._c5b por cada\n",
    "## valor en tbl0._c1.\n",
    "## \n",
    "~~~"
   ]
  },
  {
   "cell_type": "code",
   "execution_count": 170,
   "metadata": {
    "scrolled": true
   },
   "outputs": [
    {
     "name": "stdout",
     "output_type": "stream",
     "text": [
      "_c5a\n",
      "aaa    53\n",
      "bbb    82\n",
      "ccc    72\n",
      "ddd    98\n",
      "eee    55\n",
      "fff    94\n",
      "ggg    61\n",
      "hhh    80\n",
      "iii    86\n",
      "jjj    67\n",
      "Name: _c5b, dtype: int64\n"
     ]
    }
   ],
   "source": [
    "'''\n",
    "_c5a\n",
    "aaa    53\n",
    "bbb    82\n",
    "ccc    72\n",
    "ddd    98\n",
    "eee    55\n",
    "fff    94\n",
    "ggg    61\n",
    "hhh    80\n",
    "iii    86\n",
    "jjj    67\n",
    "Name: _c5b, dtype: int64\n",
    "'''\n",
    "tbl0 = pd.read_csv('tbl0.tsv', sep='\\t')\n",
    "tbl2 = pd.read_csv('tbl2.tsv', sep='\\t')\n",
    "join = pd.merge(tbl0, tbl2, on='_c0')\n",
    "\n",
    "print((join.groupby('_c5a').sum())['_c5b'])"
   ]
  }
 ],
 "metadata": {
  "kernelspec": {
   "display_name": "Python 3",
   "language": "python",
   "name": "python3"
  },
  "language_info": {
   "codemirror_mode": {
    "name": "ipython",
    "version": 3
   },
   "file_extension": ".py",
   "mimetype": "text/x-python",
   "name": "python",
   "nbconvert_exporter": "python",
   "pygments_lexer": "ipython3",
   "version": "3.6.7"
  }
 },
 "nbformat": 4,
 "nbformat_minor": 2
}
